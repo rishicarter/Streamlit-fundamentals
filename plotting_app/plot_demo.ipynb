{
 "cells": [
  {
   "cell_type": "code",
   "execution_count": 4,
   "metadata": {},
   "outputs": [
    {
     "name": "stderr",
     "output_type": "stream",
     "text": [
      "2023-02-21 16:16:11.204 \n",
      "  \u001b[33m\u001b[1mWarning:\u001b[0m to view this Streamlit app on a browser, run it with the following\n",
      "  command:\n",
      "\n",
      "    streamlit run C:\\Users\\rishi\\AppData\\Roaming\\Python\\Python311\\site-packages\\ipykernel_launcher.py [ARGUMENTS]\n"
     ]
    },
    {
     "data": {
      "text/plain": [
       "False"
      ]
     },
     "execution_count": 4,
     "metadata": {},
     "output_type": "execute_result"
    }
   ],
   "source": [
    "import numpy as np\n",
    "import streamlit as st\n",
    "import time\n",
    "\n",
    "progress_bar=st.sidebar.progress(0)\n",
    "status_text=st.sidebar.empty()\n",
    "last_rows=np.random.randn(1,1)\n",
    "chart = st.line_chart(last_rows)\n",
    "\n",
    "for i in range(1,101):\n",
    "    new_rows = last_rows[-1, :] + np.random.randn(5,1).cumsum(axis=0)\n",
    "    status_text.text(f\"{i}% Complete\")\n",
    "    chart.add_rows(new_rows)\n",
    "    progress_bar.progress(i)\n",
    "    last_rows=new_rows\n",
    "    time.sleep(0.05)\n",
    "    \n",
    "progress_bar.empty()\n",
    "st.button(\"Re-run\")"
   ]
  },
  {
   "cell_type": "code",
   "execution_count": null,
   "metadata": {},
   "outputs": [],
   "source": []
  }
 ],
 "metadata": {
  "kernelspec": {
   "display_name": "Python 3",
   "language": "python",
   "name": "python3"
  },
  "language_info": {
   "codemirror_mode": {
    "name": "ipython",
    "version": 3
   },
   "file_extension": ".py",
   "mimetype": "text/x-python",
   "name": "python",
   "nbconvert_exporter": "python",
   "pygments_lexer": "ipython3",
   "version": "3.11.2"
  },
  "orig_nbformat": 4,
  "vscode": {
   "interpreter": {
    "hash": "d732ee455d3b4c6430d9fbd18ec60641c616cd9b0646ab7d3f13a8ae5abafddb"
   }
  }
 },
 "nbformat": 4,
 "nbformat_minor": 2
}
